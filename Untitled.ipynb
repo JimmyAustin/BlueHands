{
    "cells": [
        {
            "cell_type": "code",
            "execution_count": 2,
            "metadata": {},
            "outputs": [],
            "source": [
                "from z3 import *"
            ]
        },
        {
            "cell_type": "code",
            "execution_count": 3,
            "metadata": {},
            "outputs": [],
            "source": [
                "import string"
            ]
        },
        {
            "cell_type": "code",
            "execution_count": 9,
            "metadata": {},
            "outputs": [
                {
                    "ename": "Z3Exception",
                    "evalue": "Value cannot be converted into a Z3 Boolean value",
                    "output_type": "error",
                    "traceback": [
                        "\u001b[0;31m---------------------------------------------------------------------------\u001b[0m",
                        "\u001b[0;31mZ3Exception\u001b[0m                               Traceback (most recent call last)",
                        "\u001b[0;32m<ipython-input-9-35ce856f9b99>\u001b[0m in \u001b[0;36m<module>\u001b[0;34m\u001b[0m\n\u001b[1;32m     14\u001b[0m \u001b[0mtheoretical_new_string\u001b[0m \u001b[0;34m=\u001b[0m \u001b[0;34m'efghijklmnopqrstuvwxyzabcdefghij'\u001b[0m\u001b[0;34m\u001b[0m\u001b[0;34m\u001b[0m\u001b[0m\n\u001b[1;32m     15\u001b[0m \u001b[0;34m\u001b[0m\u001b[0m\n\u001b[0;32m---> 16\u001b[0;31m \u001b[0msolver\u001b[0m\u001b[0;34m.\u001b[0m\u001b[0madd\u001b[0m\u001b[0;34m(\u001b[0m\u001b[0mExtract\u001b[0m\u001b[0;34m(\u001b[0m\u001b[0;36m31\u001b[0m\u001b[0;34m,\u001b[0m \u001b[0;36m4\u001b[0m\u001b[0;34m,\u001b[0m \u001b[0mbv1\u001b[0m\u001b[0;34m)\u001b[0m\u001b[0;34m)\u001b[0m\u001b[0;34m\u001b[0m\u001b[0;34m\u001b[0m\u001b[0m\n\u001b[0m\u001b[1;32m     17\u001b[0m \u001b[0;34m\u001b[0m\u001b[0m\n\u001b[1;32m     18\u001b[0m \u001b[0mprint\u001b[0m\u001b[0;34m(\u001b[0m\u001b[0msolver\u001b[0m\u001b[0;34m.\u001b[0m\u001b[0mcheck\u001b[0m\u001b[0;34m(\u001b[0m\u001b[0;34m)\u001b[0m\u001b[0;34m)\u001b[0m\u001b[0;34m\u001b[0m\u001b[0;34m\u001b[0m\u001b[0m\n",
                        "\u001b[0;32m~/.local/lib/python3.6/site-packages/z3/z3.py\u001b[0m in \u001b[0;36madd\u001b[0;34m(self, *args)\u001b[0m\n\u001b[1;32m   6432\u001b[0m         \u001b[0;34m[\u001b[0m\u001b[0mx\u001b[0m \u001b[0;34m>\u001b[0m \u001b[0;36m0\u001b[0m\u001b[0;34m,\u001b[0m \u001b[0mx\u001b[0m \u001b[0;34m<\u001b[0m \u001b[0;36m2\u001b[0m\u001b[0;34m]\u001b[0m\u001b[0;34m\u001b[0m\u001b[0;34m\u001b[0m\u001b[0m\n\u001b[1;32m   6433\u001b[0m         \"\"\"\n\u001b[0;32m-> 6434\u001b[0;31m         \u001b[0mself\u001b[0m\u001b[0;34m.\u001b[0m\u001b[0massert_exprs\u001b[0m\u001b[0;34m(\u001b[0m\u001b[0;34m*\u001b[0m\u001b[0margs\u001b[0m\u001b[0;34m)\u001b[0m\u001b[0;34m\u001b[0m\u001b[0;34m\u001b[0m\u001b[0m\n\u001b[0m\u001b[1;32m   6435\u001b[0m \u001b[0;34m\u001b[0m\u001b[0m\n\u001b[1;32m   6436\u001b[0m     \u001b[0;32mdef\u001b[0m \u001b[0m__iadd__\u001b[0m\u001b[0;34m(\u001b[0m\u001b[0mself\u001b[0m\u001b[0;34m,\u001b[0m \u001b[0mfml\u001b[0m\u001b[0;34m)\u001b[0m\u001b[0;34m:\u001b[0m\u001b[0;34m\u001b[0m\u001b[0;34m\u001b[0m\u001b[0m\n",
                        "\u001b[0;32m~/.local/lib/python3.6/site-packages/z3/z3.py\u001b[0m in \u001b[0;36massert_exprs\u001b[0;34m(self, *args)\u001b[0m\n\u001b[1;32m   6420\u001b[0m                     \u001b[0mZ3_solver_assert\u001b[0m\u001b[0;34m(\u001b[0m\u001b[0mself\u001b[0m\u001b[0;34m.\u001b[0m\u001b[0mctx\u001b[0m\u001b[0;34m.\u001b[0m\u001b[0mref\u001b[0m\u001b[0;34m(\u001b[0m\u001b[0;34m)\u001b[0m\u001b[0;34m,\u001b[0m \u001b[0mself\u001b[0m\u001b[0;34m.\u001b[0m\u001b[0msolver\u001b[0m\u001b[0;34m,\u001b[0m \u001b[0mf\u001b[0m\u001b[0;34m.\u001b[0m\u001b[0mas_ast\u001b[0m\u001b[0;34m(\u001b[0m\u001b[0;34m)\u001b[0m\u001b[0;34m)\u001b[0m\u001b[0;34m\u001b[0m\u001b[0;34m\u001b[0m\u001b[0m\n\u001b[1;32m   6421\u001b[0m             \u001b[0;32melse\u001b[0m\u001b[0;34m:\u001b[0m\u001b[0;34m\u001b[0m\u001b[0;34m\u001b[0m\u001b[0m\n\u001b[0;32m-> 6422\u001b[0;31m                 \u001b[0marg\u001b[0m \u001b[0;34m=\u001b[0m \u001b[0ms\u001b[0m\u001b[0;34m.\u001b[0m\u001b[0mcast\u001b[0m\u001b[0;34m(\u001b[0m\u001b[0marg\u001b[0m\u001b[0;34m)\u001b[0m\u001b[0;34m\u001b[0m\u001b[0;34m\u001b[0m\u001b[0m\n\u001b[0m\u001b[1;32m   6423\u001b[0m                 \u001b[0mZ3_solver_assert\u001b[0m\u001b[0;34m(\u001b[0m\u001b[0mself\u001b[0m\u001b[0;34m.\u001b[0m\u001b[0mctx\u001b[0m\u001b[0;34m.\u001b[0m\u001b[0mref\u001b[0m\u001b[0;34m(\u001b[0m\u001b[0;34m)\u001b[0m\u001b[0;34m,\u001b[0m \u001b[0mself\u001b[0m\u001b[0;34m.\u001b[0m\u001b[0msolver\u001b[0m\u001b[0;34m,\u001b[0m \u001b[0marg\u001b[0m\u001b[0;34m.\u001b[0m\u001b[0mas_ast\u001b[0m\u001b[0;34m(\u001b[0m\u001b[0;34m)\u001b[0m\u001b[0;34m)\u001b[0m\u001b[0;34m\u001b[0m\u001b[0;34m\u001b[0m\u001b[0m\n\u001b[1;32m   6424\u001b[0m \u001b[0;34m\u001b[0m\u001b[0m\n",
                        "\u001b[0;32m~/.local/lib/python3.6/site-packages/z3/z3.py\u001b[0m in \u001b[0;36mcast\u001b[0;34m(self, val)\u001b[0m\n\u001b[1;32m   1319\u001b[0m                \u001b[0m_z3_assert\u001b[0m\u001b[0;34m(\u001b[0m\u001b[0mis_expr\u001b[0m\u001b[0;34m(\u001b[0m\u001b[0mval\u001b[0m\u001b[0;34m)\u001b[0m\u001b[0;34m,\u001b[0m \u001b[0;34m\"True, False or Z3 Boolean expression expected. Received %s\"\u001b[0m \u001b[0;34m%\u001b[0m \u001b[0mval\u001b[0m\u001b[0;34m)\u001b[0m\u001b[0;34m\u001b[0m\u001b[0;34m\u001b[0m\u001b[0m\n\u001b[1;32m   1320\u001b[0m             \u001b[0;32mif\u001b[0m \u001b[0;32mnot\u001b[0m \u001b[0mself\u001b[0m\u001b[0;34m.\u001b[0m\u001b[0meq\u001b[0m\u001b[0;34m(\u001b[0m\u001b[0mval\u001b[0m\u001b[0;34m.\u001b[0m\u001b[0msort\u001b[0m\u001b[0;34m(\u001b[0m\u001b[0;34m)\u001b[0m\u001b[0;34m)\u001b[0m\u001b[0;34m:\u001b[0m\u001b[0;34m\u001b[0m\u001b[0;34m\u001b[0m\u001b[0m\n\u001b[0;32m-> 1321\u001b[0;31m                \u001b[0m_z3_assert\u001b[0m\u001b[0;34m(\u001b[0m\u001b[0mself\u001b[0m\u001b[0;34m.\u001b[0m\u001b[0meq\u001b[0m\u001b[0;34m(\u001b[0m\u001b[0mval\u001b[0m\u001b[0;34m.\u001b[0m\u001b[0msort\u001b[0m\u001b[0;34m(\u001b[0m\u001b[0;34m)\u001b[0m\u001b[0;34m)\u001b[0m\u001b[0;34m,\u001b[0m \u001b[0;34m\"Value cannot be converted into a Z3 Boolean value\"\u001b[0m\u001b[0;34m)\u001b[0m\u001b[0;34m\u001b[0m\u001b[0;34m\u001b[0m\u001b[0m\n\u001b[0m\u001b[1;32m   1322\u001b[0m         \u001b[0;32mreturn\u001b[0m \u001b[0mval\u001b[0m\u001b[0;34m\u001b[0m\u001b[0;34m\u001b[0m\u001b[0m\n\u001b[1;32m   1323\u001b[0m \u001b[0;34m\u001b[0m\u001b[0m\n",
                        "\u001b[0;32m~/.local/lib/python3.6/site-packages/z3/z3.py\u001b[0m in \u001b[0;36m_z3_assert\u001b[0;34m(cond, msg)\u001b[0m\n\u001b[1;32m     89\u001b[0m \u001b[0;32mdef\u001b[0m \u001b[0m_z3_assert\u001b[0m\u001b[0;34m(\u001b[0m\u001b[0mcond\u001b[0m\u001b[0;34m,\u001b[0m \u001b[0mmsg\u001b[0m\u001b[0;34m)\u001b[0m\u001b[0;34m:\u001b[0m\u001b[0;34m\u001b[0m\u001b[0;34m\u001b[0m\u001b[0m\n\u001b[1;32m     90\u001b[0m     \u001b[0;32mif\u001b[0m \u001b[0;32mnot\u001b[0m \u001b[0mcond\u001b[0m\u001b[0;34m:\u001b[0m\u001b[0;34m\u001b[0m\u001b[0;34m\u001b[0m\u001b[0m\n\u001b[0;32m---> 91\u001b[0;31m         \u001b[0;32mraise\u001b[0m \u001b[0mZ3Exception\u001b[0m\u001b[0;34m(\u001b[0m\u001b[0mmsg\u001b[0m\u001b[0;34m)\u001b[0m\u001b[0;34m\u001b[0m\u001b[0;34m\u001b[0m\u001b[0m\n\u001b[0m\u001b[1;32m     92\u001b[0m \u001b[0;34m\u001b[0m\u001b[0m\n\u001b[1;32m     93\u001b[0m \u001b[0;32mdef\u001b[0m \u001b[0m_z3_check_cint_overflow\u001b[0m\u001b[0;34m(\u001b[0m\u001b[0mn\u001b[0m\u001b[0;34m,\u001b[0m \u001b[0mname\u001b[0m\u001b[0;34m)\u001b[0m\u001b[0;34m:\u001b[0m\u001b[0;34m\u001b[0m\u001b[0;34m\u001b[0m\u001b[0m\n",
                        "\u001b[0;31mZ3Exception\u001b[0m: Value cannot be converted into a Z3 Boolean value"
                    ]
                }
            ],
            "source": [
                "alphabet = ''.join([string.ascii_letters[x % 26] for x in range(32)])\n",
                "\n",
                "\n",
                "bv1 = BitVecVal(0x0123456789ABCDEF, 32) #BitVec('bv1', 32)\n",
                "bv2 = BitVec('bv2', 32)\n",
                "\n",
                "#str1 = StringVal(copy.copy(alphabet))\n",
                "#str2 = StringVal(copy.copy(alphabet))\n",
                "\n",
                "solver = Solver()\n",
                "\n",
                "\n",
                "offset = 4\n",
                "theoretical_new_string = 'efghijklmnopqrstuvwxyzabcdefghij'\n",
                "\n",
                "solver.add(Extract(31, 4, bv1))\n",
                "\n",
                "print(solver.check())\n",
                "print(solver.model())"
            ]
        },
        {
            "cell_type": "code",
            "execution_count": 91,
            "metadata": {},
            "outputs": [
                {
                    "name": "stdout",
                    "output_type": "stream",
                    "text": [
                        "sat\n",
                        "{CallDataSize: '0000000000000100000000000000000000000000000000000000000000000000',\n",
                        " input_0: 'a6c14f8d00000000000000000000000000000000000000000000000000000000',\n",
                        " Test: '00000000000000000000000000000000000000000000000000000000a6c14f8d',\n",
                        " input_1: '0000000f00000000000000000000000000000000000000000000000000000000',\n",
                        " inputat4: '000000000000000000000000000000000000000000000000000000000000000f'}\n",
                        "a6c14f8d000000000000000000000000000000000000000000000000000000000000000f00000000000000000000000000000000000000000000000000000000\n",
                        "a6c14f8d000000000000000000000000000000000000000000000000000000000000000f00000000000000000000000000000000000000000000000000000000\n",
                        "a6c14f8d0000000000000000000000000000000000000000000000000000000000000005\n"
                    ]
                }
            ],
            "source": [
                "CallDataSize = BitVec('CallDataSize', 256)\n",
                "input_0 = BitVec('input_0', 256)\n",
                "input_1 = BitVec('input_1', 256)\n",
                "inputat4 = BitVec('inputat4', 256)\n",
                "\n",
                "\n",
                "\n",
                "overlap = 4 * 8 - 1\n",
                "end = 255\n",
                "\n",
                "InputTest = BitVec('Test', overlap + 1)\n",
                "\n",
                "path = [If(CallDataSize < 4, 1, 0) == 0,\n",
                " If(UDiv(input_0,\n",
                "         26959946667150639794667015087019630673637144422540572481103610249216) ==\n",
                "    2797686669,\n",
                "    1,\n",
                "    0) !=\n",
                " 0,\n",
                " If(If(CallDataSize - 4 < 32, 1, 0) == 0, 1, 0) != 0,\n",
                " Extract(end, end-overlap, input_0) == InputTest,\n",
                " Extract(overlap, 0, input_0) == Extract(end, end-overlap, inputat4),\n",
                " Extract(overlap, 0, inputat4) == Extract(end, end-overlap, input_1),\n",
                " If(If(inputat4 == 15, 1, 0) == 0, 1, 0) == 0]\n",
                "\n",
                "solver = Solver()\n",
                "solver.add(path)\n",
                "print(solver.check())\n",
                "model = solver.model()\n",
                "\n",
                "# try:\n",
                "#     model = solver.model()\n",
                "# except Z3Exception:\n",
                "#     return None\n",
                "inputs = []\n",
                "call_data_size = None\n",
                "for model_input in model:\n",
                "    name = model_input.name()\n",
                "    if name.startswith('input_'):\n",
                "        inputs.append(model_input)\n",
                "    elif name == 'CallDataSize':\n",
                "        call_data_size = model_input\n",
                "\n",
                "inputs = [x for x in model if x.name().startswith('input_')]\n",
                "inputs = sorted(inputs, key=lambda x: x.name())\n",
                "values = [model[x] for x in inputs]\n",
                "from pprint import pprint\n",
                "pprint({x: int(model[x].as_long()).to_bytes(32, 'big').hex() for x in model})\n",
                "pprint\n",
                "byte_values = [int(x.as_long()).to_bytes(32, 'big') for x in values]\n",
                "total_value = b''.join(byte_values)\n",
                "\n",
                "print(total_value.hex())\n",
                "if call_data_size is not None:\n",
                "    call_data_length = int(model[call_data_size].as_long())\n",
                "    total_value = total_value[:call_data_length]\n",
                "print(total_value.hex())\n",
                "print('a6c14f8d0000000000000000000000000000000000000000000000000000000000000005')"
            ]
        },
        {
            "cell_type": "code",
            "execution_count": 64,
            "metadata": {},
            "outputs": [
                {
                    "name": "stdout",
                    "output_type": "stream",
                    "text": [
                        "56\n"
                    ]
                }
            ],
            "source": [
                "print(len('0000000000000000000000000000000000000000000000000000000f'))"
            ]
        },
        {
            "cell_type": "code",
            "execution_count": null,
            "metadata": {},
            "outputs": [],
            "source": []
        }
    ],
    "metadata": {
        "kernelspec": {
            "display_name": "Python 3",
            "language": "python",
            "name": "python3"
        },
        "language_info": {
            "codemirror_mode": {
                "name": "ipython",
                "version": 3
            },
            "file_extension": ".py",
            "mimetype": "text/x-python",
            "name": "python",
            "nbconvert_exporter": "python",
            "pygments_lexer": "ipython3",
            "version": "3.6.7"
        }
    },
    "nbformat": 4,
    "nbformat_minor": 2
}
